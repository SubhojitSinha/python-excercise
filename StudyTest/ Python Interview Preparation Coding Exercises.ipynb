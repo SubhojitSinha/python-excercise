{
 "cells": [
  {
   "cell_type": "markdown",
   "id": "c15c7d74",
   "metadata": {},
   "source": [
    "### Removing Duplicate Entries from Database\n",
    "As a startup, you have a database of customer information sorted in non-decreasing order. However, there are duplicate entries that need to be removed in-place such that each unique customer appears only once. The relative order of the customers should be kept the same. Write a function that takes in the database as an integer array and returns the number of unique customers in the database after removing duplicates."
   ]
  },
  {
   "cell_type": "code",
   "execution_count": 2,
   "id": "539dc9f7",
   "metadata": {},
   "outputs": [],
   "source": [
    "def remove_duplicates(database: list[int]) -> int:\n",
    "    test = set()\n",
    "    for item in database:\n",
    "        test.add(item)\n",
    "    \n",
    "    #print(test)\n",
    "    return len(test)"
   ]
  },
  {
   "cell_type": "code",
   "execution_count": 4,
   "id": "a8007622",
   "metadata": {},
   "outputs": [
    {
     "name": "stdout",
     "output_type": "stream",
     "text": [
      "6\n"
     ]
    }
   ],
   "source": [
    "database = [1, 2, 2, 3, 4, 4, 4, 5, 5, 6]\n",
    "print(remove_duplicates(database))"
   ]
  },
  {
   "cell_type": "code",
   "execution_count": 5,
   "id": "e7cc4bb6",
   "metadata": {},
   "outputs": [
    {
     "name": "stdout",
     "output_type": "stream",
     "text": [
      "1\n"
     ]
    }
   ],
   "source": [
    "database = [1, 1, 1, 1, 1, 1, 1]\n",
    "print(remove_duplicates(database))"
   ]
  },
  {
   "cell_type": "markdown",
   "id": "1214665a",
   "metadata": {},
   "source": [
    "### Stock Trading Profit Maximization\n",
    "You have been given a list of stock prices of a particular stock. You want to maximize your profit by buying and selling the stock at the right time. \n",
    "\n",
    "On each day, \n",
    "1. you can either buy the stock, \n",
    "2. sell the stock, or \n",
    "3. do nothing. \n",
    "\n",
    "You can only hold at most one share of the stock at any time. \n",
    "\n",
    "However, you can buy it then immediately sell it on the same day. \n",
    "\n",
    "Write a function that \n",
    "1. takes in a list of stock prices and returns the maximum profit you can achieve. \n",
    "2. If no profit can be made, return 0. \n",
    "\n",
    "Python function signature: \n",
    "\n",
    "```python \n",
    "def max_profit(prices: list[float]) -> float: \n",
    "``` \n",
    "\n",
    "Example 1: \n",
    "```python \n",
    "prices = [7, 1, 5, 3, 6, 4] \n",
    "assert max_profit(prices) == 5.0 \n",
    "``` \n",
    "\n",
    "Example 2: \n",
    "```python \n",
    "prices = [7, 6, 4, 3, 1] \n",
    "assert max_profit(prices) == 0.0 \n",
    "``` \n",
    "\n",
    "The function should take in a list of stock prices as input and return the maximum profit that can be achieved by buying and selling the stock at the right time. If no profit can be made, the function should return 0."
   ]
  },
  {
   "cell_type": "code",
   "execution_count": 11,
   "id": "310e369d",
   "metadata": {},
   "outputs": [],
   "source": [
    "def max_profit(stock_prices: list[float]) -> float: \n",
    "    profit = 0\n",
    "\n",
    "    for i in range(1, len(stock_prices)):\n",
    "        if i==1:\n",
    "            # buy the first item\n",
    "            profit = profit - stock_prices[i]\n",
    "        else :\n",
    "            current_price = stock_prices[i]\n",
    "            if current_price > stock_prices[i - 1]:\n",
    "                profit += current_price - stock_prices[i - 1]\n",
    "                \n",
    "                \n",
    "        # Buy if the stock price is lower today than yesterday\n",
    "        if stock_prices[i] > stock_prices[i - 1]:\n",
    "            profit += stock_prices[i] - stock_prices[i - 1]\n",
    "\n",
    "    return profit"
   ]
  },
  {
   "cell_type": "code",
   "execution_count": 12,
   "id": "6760bde6",
   "metadata": {},
   "outputs": [
    {
     "name": "stdout",
     "output_type": "stream",
     "text": [
      "7.0\n"
     ]
    }
   ],
   "source": [
    "prices = [7.0, 1.0, 5.0, 3.0, 6.0, 4.0] \n",
    "print(max_profit(prices))\n",
    "\n",
    "#prices = [7, 6, 4, 3, 1] \n",
    "#assert max_profit(prices) == 0.0"
   ]
  },
  {
   "cell_type": "markdown",
   "id": "e836e85f",
   "metadata": {},
   "source": [
    "### Array Rotation\n",
    "Write a function that takes an array and an integer n as input and shifts the array to the right by n steps. Return the shifted array.\n",
    "\n",
    "Python Function Signature:   \n",
    "\n",
    "```python\n",
    "def shift_array(arr: list[int], n: int) -> list[int]:\n",
    "```\n",
    "\n",
    "Example 1:\n",
    "```python\n",
    "arr = [1, 2, 3, 4, 5]\n",
    "n = 2\n",
    "assert shift_array(arr, n) == [4, 5, 1, 2, 3]\n",
    "``` \n",
    "\n",
    "Example 2: \n",
    "```python\n",
    "arr = [0, 1, 2, 3, 4, 5]\n",
    "n = 4\n",
    "assert shift_array(arr, n) == [2, 3, 4, 5, 0, 1]\n",
    "```"
   ]
  },
  {
   "cell_type": "code",
   "execution_count": 29,
   "id": "0619a32a",
   "metadata": {},
   "outputs": [],
   "source": [
    "def shift_array(arr: list[int], n: int) -> list[int]:\n",
    "    temp = list()\n",
    "    for i in range(0,n):\n",
    "        temp.append(arr.pop())\n",
    "    \n",
    "    temp.sort()\n",
    "    \n",
    "    return temp+arr"
   ]
  },
  {
   "cell_type": "code",
   "execution_count": 33,
   "id": "3a65f4e0",
   "metadata": {},
   "outputs": [],
   "source": [
    "arr = [1, 2, 3, 4, 5]\n",
    "n = 2\n",
    "assert shift_array(arr, n) == [4, 5, 1, 2, 3]"
   ]
  },
  {
   "cell_type": "code",
   "execution_count": 34,
   "id": "1bb5a6a2",
   "metadata": {},
   "outputs": [],
   "source": [
    "arr = [0, 1, 2, 3, 4, 5]\n",
    "n = 4\n",
    "assert shift_array(arr, n) == [2, 3, 4, 5, 0, 1]"
   ]
  },
  {
   "cell_type": "code",
   "execution_count": 36,
   "id": "96aaddc7",
   "metadata": {},
   "outputs": [],
   "source": [
    "from typing import List\n",
    " \n",
    "def shift_array1(arr: List[int], n: int) -> List[int]:\n",
    "    if n == 0:\n",
    "        return arr\n",
    "    elif n > 0:\n",
    "        n = n % len(arr)\n",
    "        return arr[-n:] + arr[:-n]\n",
    "    else:\n",
    "        n = abs(n) % len(arr)\n",
    "        return arr[n:] + arr[:n]"
   ]
  },
  {
   "cell_type": "code",
   "execution_count": 38,
   "id": "733c6844",
   "metadata": {},
   "outputs": [],
   "source": [
    "arr = [1, 2, 3, 4, 5]\n",
    "n = 2\n",
    "assert shift_array(arr, n) == [4, 5, 1, 2, 3]"
   ]
  },
  {
   "cell_type": "markdown",
   "id": "6e5f114a",
   "metadata": {},
   "source": [
    "### Duplicate Detection\n",
    "You are building a platform that allows users to upload and share their favorite products. To ensure the quality of the platform, you want to detect if any product is uploaded more than once. You have an array of integers representing the product IDs uploaded by users. Write a function that takes in an integer array and returns true if any value appears at least twice in the array, and false if every element is distinct.\n",
    "\n",
    "Python Function Signature:\n",
    "```python\n",
    "def detect_duplicate_products(product_ids: List[int]) -> bool:\n",
    "    pass\n",
    "```\n",
    "Example 1:   \n",
    "```python\n",
    "product_ids = [1, 2, 3, 4, 5, 6, 7, 8, 9, 10]\n",
    "assert detect_duplicate_products(product_ids) == False\n",
    "```\n",
    "Example 2:\n",
    "```python\n",
    "product_ids = [1, 2, 3, 4, 5, 6, 7, 8, 9, 10, 1]\n",
    "assert detect_duplicate_products(product_ids) == True\n",
    "```"
   ]
  },
  {
   "cell_type": "code",
   "execution_count": 50,
   "id": "bea12dc0",
   "metadata": {},
   "outputs": [],
   "source": [
    "def detect_duplicate_products(product_ids: List[int]) -> bool:\n",
    "    temp = set()\n",
    "    for i in product_ids:\n",
    "        temp.add(i)\n",
    "    \n",
    "    return len(product_ids) != len(temp)"
   ]
  },
  {
   "cell_type": "code",
   "execution_count": 51,
   "id": "e37c3518",
   "metadata": {},
   "outputs": [],
   "source": [
    "product_ids = [1, 2, 3, 4, 5, 6, 7, 8, 9, 10]\n",
    "assert detect_duplicate_products(product_ids) == False"
   ]
  },
  {
   "cell_type": "code",
   "execution_count": 52,
   "id": "6bac3c29",
   "metadata": {},
   "outputs": [],
   "source": [
    "product_ids = [1, 2, 3, 4, 5, 6, 7, 8, 9, 10, 1]\n",
    "assert detect_duplicate_products(product_ids) == True"
   ]
  },
  {
   "cell_type": "markdown",
   "id": "b9e63580",
   "metadata": {},
   "source": [
    "### Identify Unique Customer\n",
    "You have a list of customer IDs in an array called \"\"customerIDs\"\". Each customer ID appears twice except for one unique customer. Write a function to identify the unique customer ID. Can you identify a solution that only needs linear run time?\n",
    "\n",
    "Python Function Signature:\n",
    "```python\n",
    "def find_unique_customer_id(customerIDs: List[int]) -> int:\n",
    "    pass\n",
    "```\n",
    "\n",
    "Example 1:\n",
    "```python\n",
    "assert find_unique_customer_id([1, 2, 3, 4, 5, 6, 7, 8, 9, 1, 2, 3, 4, 5, 6, 7, 8]) == 9\n",
    "```\n",
    "\n",
    "Example 2:\n",
    "```python\n",
    "assert find_unique_customer_id([10, 20, 30, 40, 50, 60, 70, 80, 90, 10, 20, 30, 40, 50, 60, 70]) == 80\n",
    "```\n",
    "\n",
    "In the above examples, the function takes a list of customer IDs as input and returns the unique customer ID. The first example has 9 as the unique customer ID, and the second example has 80 as the unique customer ID. The function has a linear runtime complexity, which means it can handle large inputs efficiently."
   ]
  },
  {
   "cell_type": "code",
   "execution_count": 61,
   "id": "65cc5b23",
   "metadata": {},
   "outputs": [],
   "source": [
    "def find_unique_customer_id(customerIDs: list[int]) -> int:\n",
    "    temp = dict()\n",
    "    for i in customerIDs:\n",
    "        if i in temp:\n",
    "            temp[i] += 1\n",
    "        else:\n",
    "            temp[i] = 1\n",
    "\n",
    "    return( list(temp.keys())[list(temp.values()).index(1)] )"
   ]
  },
  {
   "cell_type": "code",
   "execution_count": 62,
   "id": "3944bfa6",
   "metadata": {},
   "outputs": [],
   "source": [
    "assert find_unique_customer_id([1, 2, 3, 4, 5, 6, 7, 8, 9, 1, 2, 3, 4, 5, 6, 7, 8]) == 9"
   ]
  },
  {
   "cell_type": "code",
   "execution_count": 63,
   "id": "2c50eac7",
   "metadata": {},
   "outputs": [],
   "source": [
    "assert find_unique_customer_id([10, 20, 30, 40, 50, 60, 70, 80, 90, 10, 20, 30, 40, 50, 60, 70]) == 80"
   ]
  },
  {
   "cell_type": "markdown",
   "id": "582fc37d",
   "metadata": {},
   "source": [
    "### Array Intersection for Sales Analytics\n",
    "As a sales analytics startup, we need to identify the common customers between two sales datasets. We have two integer arrays representing the customer IDs of each dataset. We need a function that returns an array of the customer IDs that appear in both datasets. The output should be in ascending order! Can you help us write a function that solves this problem efficiently?\n",
    "\n",
    "Python Function Signature:\n",
    "```python\n",
    "def common_customers(customers1: List[int], customers2: List[int]) -> List[int]:\n",
    "    pass\n",
    "``` \n",
    "\n",
    "Example 1:\n",
    "```python\n",
    "customers1 = [1, 2, 3, 4, 5]\n",
    "customers2 = [4, 5, 6, 7, 8]\n",
    "assert common_customers(customers1, customers2) == [4, 5]\n",
    "```\n",
    "\n",
    "Example 2:\n",
    "```python\n",
    "customers1 = [10, 20, 30, 40, 50]\n",
    "customers2 = [50, 40, 30, 20, 10]\n",
    "assert common_customers(customers1, customers2) == [10, 20, 30, 40, 50]\n",
    "```\n",
    "\n",
    "  The function `common_customers` takes two lists of integers as input and returns a list of integers. It finds the common customers between the two datasets and returns an array of the customer IDs that appear in both datasets. The output contains each customer ID as many times as it appears in both datasets and can be in any order. The function should be implemented efficiently to handle large datasets."
   ]
  },
  {
   "cell_type": "code",
   "execution_count": 139,
   "id": "08ded5bd",
   "metadata": {},
   "outputs": [],
   "source": [
    "def common_customers(customers1: list[int], customers2: list[int]) -> list[int]:\n",
    "    temp = list()\n",
    "    for i in customers1:\n",
    "        if i in customers2:\n",
    "            temp.append(i)\n",
    "    \n",
    "    t = list( set(temp) )\n",
    "    t.sort()\n",
    "    print( list(t) )\n",
    "    \n",
    "    return list(t)"
   ]
  },
  {
   "cell_type": "code",
   "execution_count": 140,
   "id": "dd6c8b89",
   "metadata": {},
   "outputs": [
    {
     "name": "stdout",
     "output_type": "stream",
     "text": [
      "[4, 5]\n"
     ]
    }
   ],
   "source": [
    "customers1 = [1, 2, 3, 4, 5]\n",
    "customers2 = [4, 5, 6, 7, 8]\n",
    "assert common_customers(customers1, customers2) == [4, 5]"
   ]
  },
  {
   "cell_type": "code",
   "execution_count": 141,
   "id": "06fec957",
   "metadata": {},
   "outputs": [
    {
     "name": "stdout",
     "output_type": "stream",
     "text": [
      "[10, 20, 30, 40, 50]\n"
     ]
    }
   ],
   "source": [
    "customers1 = [10, 20, 30, 40, 50]\n",
    "customers2 = [50, 40, 30, 20, 10]\n",
    "assert common_customers(customers1, customers2) == [10, 20, 30, 40, 50]"
   ]
  },
  {
   "cell_type": "code",
   "execution_count": 142,
   "id": "31b3396b",
   "metadata": {},
   "outputs": [
    {
     "name": "stdout",
     "output_type": "stream",
     "text": [
      "[4, 5]\n"
     ]
    }
   ],
   "source": [
    "customers1 = [4, 5, 5, 5]\n",
    "customers2 = [1, 2, 4, 5]\n",
    "assert common_customers(customers1, customers2) == [4, 5]"
   ]
  },
  {
   "cell_type": "markdown",
   "id": "c1f7bc1c",
   "metadata": {},
   "source": [
    "### Decrementing Large Integers\n",
    "You just got hired at a data storage startup that has decided to store large integers as an array. For example 256 becomes [2,5,6]. Can you develop a Python function that takes an integer array called \"digits\" representing a large integer? Each element in the array corresponds to a digit of the integer, ordered from the most significant digit to the least significant digit in left-to-right order. It is guaranteed that there are no leading zeros in the large integer.\n",
    "\n",
    "\n",
    "Your task is to create a function that increments the large integer by one and returns the resulting array of digits.\n",
    "\n",
    "```python\n",
    "def increment_large_integer(digits: List[int]) -> List[int]:\n",
    "    \"\"\"\n",
    "    Increments a large integer represented as an array of digits by one.\n",
    "    \n",
    "    Args:\n",
    "        digits (List[int]): Array of digits representing the large integer.\n",
    "        \n",
    "    Returns:\n",
    "        List[int]: Array of digits representing the resulting incremented large integer.\n",
    "    \"\"\"\n",
    "    # Implementation of the function goes here\n",
    "    pass\n",
    "```\n",
    "\n",
    "*Example inputs and outputs*\n",
    "```python\n",
    "Input: [1, 2, 3]\n",
    "Expected Output: [1, 2, 4]\n",
    " \n",
    "Input: [9, 9, 9, 9]\n",
    "Expected Output: [1, 0, 0, 0, 0]\n",
    " \n",
    "Input: [5, 6, 7, 8, 9]\n",
    "Expected Output: [5, 6, 7, 9, 0]\n",
    " \n",
    "Input: [0]\n",
    "Expected Output: [1]\n",
    "```"
   ]
  },
  {
   "cell_type": "code",
   "execution_count": 160,
   "id": "f445cc7f",
   "metadata": {},
   "outputs": [],
   "source": [
    "def increment_large_integer(digits: list[int]) -> list[int]:\n",
    "    \"\"\"\n",
    "    Increments a large integer represented as an array of digits by one.\n",
    "    \n",
    "    Args:\n",
    "        digits (List[int]): Array of digits representing the large integer.\n",
    "        \n",
    "    Returns:\n",
    "        List[int]: Array of digits representing the resulting incremented large integer.\n",
    "    \"\"\"\n",
    "    temp = ''\n",
    "    # Implementation of the function goes here\n",
    "    for i in digits:\n",
    "        temp = temp+str(i)\n",
    "        \n",
    "    num = int(temp)\n",
    "    incremented = num+1\n",
    "    \n",
    "    \n",
    "    ret = list()\n",
    "    for i in str(incremented):\n",
    "        ret.append(int(i))\n",
    "        \n",
    "    # print(ret)\n",
    "    return ret"
   ]
  },
  {
   "cell_type": "code",
   "execution_count": 161,
   "id": "b05231b0",
   "metadata": {},
   "outputs": [
    {
     "data": {
      "text/plain": [
       "[1, 2, 4]"
      ]
     },
     "execution_count": 161,
     "metadata": {},
     "output_type": "execute_result"
    }
   ],
   "source": [
    "digits= [0,1, 2, 3]\n",
    "increment_large_integer(digits)"
   ]
  },
  {
   "cell_type": "code",
   "execution_count": 162,
   "id": "ec663865",
   "metadata": {},
   "outputs": [
    {
     "data": {
      "text/plain": [
       "[1, 0, 0, 0, 0]"
      ]
     },
     "execution_count": 162,
     "metadata": {},
     "output_type": "execute_result"
    }
   ],
   "source": [
    "digits= [9, 9, 9, 9]\n",
    "increment_large_integer(digits)"
   ]
  },
  {
   "cell_type": "code",
   "execution_count": 163,
   "id": "5addd3ce",
   "metadata": {},
   "outputs": [
    {
     "data": {
      "text/plain": [
       "[5, 6, 7, 9, 0]"
      ]
     },
     "execution_count": 163,
     "metadata": {},
     "output_type": "execute_result"
    }
   ],
   "source": [
    "digits= [5, 6, 7, 8, 9]\n",
    "increment_large_integer(digits)"
   ]
  },
  {
   "cell_type": "code",
   "execution_count": 164,
   "id": "34fa956f",
   "metadata": {},
   "outputs": [
    {
     "data": {
      "text/plain": [
       "[1]"
      ]
     },
     "execution_count": 164,
     "metadata": {},
     "output_type": "execute_result"
    }
   ],
   "source": [
    "digits= [0]\n",
    "increment_large_integer(digits)"
   ]
  },
  {
   "cell_type": "markdown",
   "id": "bf5c8f7b",
   "metadata": {},
   "source": [
    "### Zero Movement\n",
    "We are building a platform that requires us to process large amounts of data. We have noticed that our system is slowed down by the presence of zeros in our integer arrays. We need a function that can move all the zeros to the end of the array without changing the order of the other elements. Bonus: Can you achieve this without copying the list (in-place)?\n",
    "\n",
    "Python Function Signature:   \n",
    "```python\n",
    "def move_zeros(arr: List[int]) -> List[int]:  \n",
    "``` \n",
    "Example 1: \n",
    "```python\n",
    "arr = [0, 1, 0, 3, 12] \n",
    "move_zeros(arr) \n",
    "Output = [1, 3, 12, 0, 0]   \n",
    "``` \n",
    " \n",
    "Example 2:\n",
    "```python\n",
    "arr = [0, 0, 0, 0, 0, 1, 2, 3, 4, 5] \n",
    "move_zeros(arr) \n",
    "Output = [1, 2, 3, 4, 5, 0, 0, 0, 0, 0] \n",
    "```\n",
    "\n",
    "**Note: The function should not return anything. It should modify the input list in-place.**"
   ]
  },
  {
   "cell_type": "code",
   "execution_count": 188,
   "id": "0afaf3c6",
   "metadata": {},
   "outputs": [],
   "source": [
    "def move_zeros(arr: list[int]) -> list[int]:  \n",
    "    '''\n",
    "    INPUT arr is a simple Python list\n",
    "    Don't return anything, modify arr in place.\n",
    "    The solution code will just check on the current state of arr.\n",
    "    For example:\n",
    "    arr = [1,2,3] inside the function and then don't return anything.\n",
    "    '''\n",
    "    \n",
    "    zero_count = arr.count(0)\n",
    "    \n",
    "    arr[:] = [i for i in arr if i!=0 ] \n",
    "    # ----------\n",
    "    # By assigning the new list to `arr[:]`, \n",
    "    # it replaces the original array with the filtered list, \n",
    "    # effectively removing all the zeros from `arr`.\n",
    "    \n",
    "    arr += [0] * zero_count"
   ]
  },
  {
   "cell_type": "code",
   "execution_count": 186,
   "id": "244d99c8",
   "metadata": {},
   "outputs": [
    {
     "name": "stdout",
     "output_type": "stream",
     "text": [
      "[0, 1, 0, 3, 12]\n",
      "[1, 3, 12, 0, 0]\n"
     ]
    }
   ],
   "source": [
    "arr = [0, 1, 0, 3, 12] \n",
    "print(arr)\n",
    "move_zeros(arr) \n",
    "print(arr)"
   ]
  },
  {
   "cell_type": "code",
   "execution_count": 187,
   "id": "73c0685a",
   "metadata": {},
   "outputs": [
    {
     "name": "stdout",
     "output_type": "stream",
     "text": [
      "[0, 0, 0, 0, 0, 1, 2, 3, 4, 5]\n",
      "[1, 2, 3, 4, 5, 0, 0, 0, 0, 0]\n"
     ]
    }
   ],
   "source": [
    "arr = [0, 0, 0, 0, 0, 1, 2, 3, 4, 5] \n",
    "print(arr)\n",
    "move_zeros(arr)\n",
    "print(arr)"
   ]
  },
  {
   "cell_type": "markdown",
   "id": "32912f2a",
   "metadata": {},
   "source": [
    "---\n",
    "\n",
    "### Finding Pairs\n",
    "We have a list of numbers representing the prices of our products. We want to create a feature that allows our users to search for pairs of products whose prices add up to a specific target amount. Write a function that takes in an array of integers representing the prices of our products and an integer target, and returns the indices of the two products whose prices add up to the target amount. Each product can only be used once and the output can be in any order. If there are multiple pairs you only need to return a single pair.\n",
    "\n",
    "\n",
    "\n",
    "Python Function Signature:\n",
    "```python\n",
    "def find_product_indices(prices: List[int], target: int) -> List[int]:\n",
    "    pass\n",
    "```    \n",
    "Example 1:\n",
    "```python\n",
    "prices = [10, 20, 30, 40, 50]\n",
    "target = 60\n",
    "assert find_product_indices(prices, target) == [1, 3]\n",
    "```\n",
    "Example 2:\n",
    "```python\n",
    "prices = [5, 10, 15, 20, 25]\n",
    "target = 30\n",
    "assert find_product_indices(prices, target) == [0, 4]\n",
    "```"
   ]
  },
  {
   "cell_type": "code",
   "execution_count": 240,
   "id": "a9a4199a",
   "metadata": {},
   "outputs": [],
   "source": [
    "def find_product_indices(prices: list[int], target: int) -> list[int]:\n",
    "    test = list()\n",
    "    pointer = 0\n",
    "    for i in range(0,len(prices)):\n",
    "        pointer +=1\n",
    "        if test:\n",
    "            break\n",
    "        for j in range(pointer, len(prices)):\n",
    "            sumup = prices[i] + prices[j]\n",
    "            # print(f\"[{i},{j}]-({prices[i]},{prices[j]})={sumup}\")\n",
    "            if(sumup == target):\n",
    "                test.append(i)\n",
    "                test.append(j)\n",
    "                break\n",
    "\n",
    "                \n",
    "    return test"
   ]
  },
  {
   "cell_type": "code",
   "execution_count": 241,
   "id": "7ad7add5",
   "metadata": {},
   "outputs": [
    {
     "data": {
      "text/plain": [
       "[0, 4]"
      ]
     },
     "execution_count": 241,
     "metadata": {},
     "output_type": "execute_result"
    }
   ],
   "source": [
    "prices = [10, 20, 30, 40, 50]\n",
    "target = 60\n",
    "find_product_indices(prices, target)"
   ]
  },
  {
   "cell_type": "code",
   "execution_count": 242,
   "id": "017fe8b5",
   "metadata": {},
   "outputs": [
    {
     "data": {
      "text/plain": [
       "[0, 4]"
      ]
     },
     "execution_count": 242,
     "metadata": {},
     "output_type": "execute_result"
    }
   ],
   "source": [
    "prices = [5, 10, 15, 20, 25]\n",
    "target = 30\n",
    "find_product_indices(prices, target)"
   ]
  },
  {
   "cell_type": "code",
   "execution_count": 243,
   "id": "9dfe2f16",
   "metadata": {},
   "outputs": [
    {
     "data": {
      "text/plain": [
       "[1, 4]"
      ]
     },
     "execution_count": 243,
     "metadata": {},
     "output_type": "execute_result"
    }
   ],
   "source": [
    "prices = [20, 10, 30, 5, 50]\n",
    "target = 60\n",
    "find_product_indices(prices, target)"
   ]
  },
  {
   "cell_type": "code",
   "execution_count": 247,
   "id": "247fa47a",
   "metadata": {},
   "outputs": [
    {
     "data": {
      "text/plain": [
       "[]"
      ]
     },
     "execution_count": 247,
     "metadata": {},
     "output_type": "execute_result"
    }
   ],
   "source": [
    "prices = [1,2]\n",
    "target = 60\n",
    "find_product_indices(prices, target)"
   ]
  },
  {
   "cell_type": "markdown",
   "id": "7829333c",
   "metadata": {},
   "source": [
    "### Validate Sudoku\n",
    "As a startup that provides a platform for playing Sudoku, we need to ensure that the Sudoku boards created by our users are valid. We want you to implement a function that takes in a Sudoku board as a list of lists and returns a boolean indicating whether the board is valid or not. The board is considered valid if each row, column, and 3x3 sub-box contains the digits 1-9 without repetition. Empty cells can be ignored. NOTE: You don't need to solve any sudoku here, you're just checking if the starting board is actually valid (e.g., no duplication of integers across rows, columns, or sub-boxes).\n",
    "\n",
    "\n",
    "\n",
    "**Python Function Signature:**\n",
    "\n",
    "```python \n",
    "def is_valid_sudoku(board: List[List[str]]) -> bool:\n",
    "    pass\n",
    "```\n",
    "\n",
    "**Example 1:**\n",
    "```python\n",
    "board = [\n",
    "    [\"\"5\"\",\"\"3\"\",\"\".\"\",\"\".\"\",\"\"7\"\",\"\".\"\",\"\".\"\",\"\".\"\",\"\".\"\"],\n",
    "    [\"\"6\"\",\"\".\"\",\"\".\"\",\"\"1\"\",\"\"9\"\",\"\"5\"\",\"\".\"\",\"\".\"\",\"\".\"\"],\n",
    "    [\"\".\"\",\"\"9\"\",\"\"8\"\",\"\".\"\",\"\".\"\",\"\".\"\",\"\".\"\",\"\"6\"\",\"\".\"\"],\n",
    "    [\"\"8\"\",\"\".\"\",\"\".\"\",\"\".\"\",\"\"6\"\",\"\".\"\",\"\".\"\",\"\".\"\",\"\"3\"\"],\n",
    "    [\"\"4\"\",\"\".\"\",\"\".\"\",\"\"8\"\",\"\".\"\",\"\"3\"\",\"\".\"\",\"\".\"\",\"\"1\"\"],\n",
    "    [\"\"7\"\",\"\".\"\",\"\".\"\",\"\".\"\",\"\"2\"\",\"\".\"\",\"\".\"\",\"\".\"\",\"\"6\"\"],\n",
    "    [\"\".\"\",\"\"6\"\",\"\".\"\",\"\".\"\",\"\".\"\",\"\".\"\",\"\"2\"\",\"\"8\"\",\"\".\"\"],\n",
    "    [\"\".\"\",\"\".\"\",\"\".\"\",\"\"4\"\",\"\"1\"\",\"\"9\"\",\"\".\"\",\"\".\"\",\"\"5\"\"],\n",
    "    [\"\".\"\",\"\".\"\",\"\".\"\",\"\".\"\",\"\"8\"\",\"\".\"\",\"\".\"\",\"\"7\"\",\"\"9\"\"]\n",
    "]\n",
    "assert is_valid_sudoku(board) == True\n",
    "```\n",
    "\n",
    "**Example 2:**\n",
    "```python\n",
    "board = [\n",
    "    [\"\"8\"\",\"\"3\"\",\"\".\"\",\"\".\"\",\"\"7\"\",\"\".\"\",\"\".\"\",\"\".\"\",\"\".\"\"],\n",
    "    [\"\"6\"\",\"\".\"\",\"\".\"\",\"\"1\"\",\"\"9\"\",\"\"5\"\",\"\".\"\",\"\".\"\",\"\".\"\"],\n",
    "    [\"\".\"\",\"\"9\"\",\"\"8\"\",\"\".\"\",\"\".\"\",\"\".\"\",\"\".\"\",\"\"6\"\",\"\".\"\"],\n",
    "    [\"\"8\"\",\"\".\"\",\"\".\"\",\"\".\"\",\"\"6\"\",\"\".\"\",\"\".\"\",\"\".\"\",\"\"3\"\"],\n",
    "    [\"\"4\"\",\"\".\"\",\"\".\"\",\"\"8\"\",\"\".\"\",\"\"3\"\",\"\".\"\",\"\".\"\",\"\"1\"\"],\n",
    "    [\"\"7\"\",\"\".\"\",\"\".\"\",\"\".\"\",\"\"2\"\",\"\".\"\",\"\".\"\",\"\".\"\",\"\"6\"\"],\n",
    "    [\"\".\"\",\"\"6\"\",\"\".\"\",\"\".\"\",\"\".\"\",\"\".\"\",\"\"2\"\",\"\"8\"\",\"\".\"\"],\n",
    "    [\"\".\"\",\"\".\"\",\"\".\"\",\"\"4\"\",\"\"1\"\",\"\"9\"\",\"\".\"\",\"\".\"\",\"\"5\"\"],\n",
    "    [\"\".\"\",\"\".\"\",\"\".\"\",\"\".\"\",\"\"8\"\",\"\".\"\",\"\".\"\",\"\"7\"\",\"\"9\"\"]\n",
    "]\n",
    "assert is_valid_sudoku(board) == False\n",
    "```"
   ]
  },
  {
   "cell_type": "markdown",
   "id": "b5869e5e",
   "metadata": {},
   "source": [
    "### Sunrise Sunset API\n",
    "Create a function to call the sunset-sunrise API available in https://api.sunrisesunset.io/json?lat=22.5726&lng=88.3639 and show the result formatted as below\n",
    "\n",
    "```json\n",
    "{\n",
    "  \"results\": {\n",
    "    \"locale\": {\n",
    "      \"date\": \"2024-02-07\",\n",
    "      \"day_length\": \"11:14:17\",\n",
    "      \"timezone\": \"Asia/Kolkata\",\n",
    "      \"utc_offset\": 330\n",
    "    },\n",
    "    \"sun_data\" : {\n",
    "      \"first_light\": \"4:58:24 AM\",\n",
    "      \"dawn\": \"5:51:34 AM\",\n",
    "      \"sunrise\": \"6:14:48 AM\",\n",
    "      \"solar_noon\": \"11:51:57 AM\",\n",
    "      \"golden_hour\": \"4:57:57 PM\",\n",
    "      \"sunset\": \"5:29:06 PM\",\n",
    "      \"last_light\": \"6:45:30 PM\",\n",
    "      \"dusk\": \"5:52:19 PM\",\n",
    "    }\n",
    "  }\n",
    "}\n",
    "```"
   ]
  },
  {
   "cell_type": "code",
   "execution_count": 15,
   "id": "300b55eb",
   "metadata": {},
   "outputs": [
    {
     "name": "stdout",
     "output_type": "stream",
     "text": [
      "[('first_light', '4:58:01 AM'),\n",
      " ('dawn', '5:51:08 AM'),\n",
      " ('sunrise', '6:14:19 AM'),\n",
      " ('solar_noon', '11:52:01 AM'),\n",
      " ('golden_hour', '4:58:38 PM'),\n",
      " ('sunset', '5:29:43 PM'),\n",
      " ('dusk', '5:52:54 PM'),\n",
      " ('last_light', '6:46:01 PM')]\n"
     ]
    }
   ],
   "source": [
    "import requests\n",
    "from pprint import pprint\n",
    "from datetime import datetime\n",
    "\n",
    "# Helper function to parse the time with AM/PM into a datetime object\n",
    "def parse_time(t):\n",
    "    return datetime.strptime(t, '%I:%M:%S %p')\n",
    "\n",
    "def sort_sun_data(sun_data):\n",
    "    # Use sorted function and convert the items back into a dictionary\n",
    "    return sorted(\n",
    "        sun_data.items(), \n",
    "        key=lambda item: parse_time(item[1])\n",
    "    )\n",
    "\n",
    "def get_sun_data():\n",
    "    url      = 'https://api.sunrisesunset.io/json?lat=22.5726&lng=88.3639'\n",
    "    response = requests.get(url)\n",
    "    output   = {'locale':{},'sun_data':{}}\n",
    "    locale   = ['date','day_length','timezone','utc_offset']\n",
    "\n",
    "    if response.status_code == 200:\n",
    "        response_json = response.json()\n",
    "        for key,val in response_json['results'].items():\n",
    "            if key in locale:\n",
    "                output['locale'][key] = val\n",
    "            else:\n",
    "                output['sun_data'][key] = val\n",
    "\n",
    "\n",
    "    # pprint(output)\n",
    "\n",
    "    sorted_dict = sort_sun_data(output['sun_data'])\n",
    "\n",
    "    pprint(sorted_dict)\n",
    "    \n",
    "    \n",
    "get_sun_data()"
   ]
  },
  {
   "cell_type": "code",
   "execution_count": null,
   "id": "bd780908",
   "metadata": {},
   "outputs": [],
   "source": []
  }
 ],
 "metadata": {
  "kernelspec": {
   "display_name": "Python 3 (ipykernel)",
   "language": "python",
   "name": "python3"
  },
  "language_info": {
   "codemirror_mode": {
    "name": "ipython",
    "version": 3
   },
   "file_extension": ".py",
   "mimetype": "text/x-python",
   "name": "python",
   "nbconvert_exporter": "python",
   "pygments_lexer": "ipython3",
   "version": "3.10.9"
  }
 },
 "nbformat": 4,
 "nbformat_minor": 5
}
