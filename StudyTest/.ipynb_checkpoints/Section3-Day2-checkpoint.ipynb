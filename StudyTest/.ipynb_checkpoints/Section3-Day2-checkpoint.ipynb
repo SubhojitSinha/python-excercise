{
 "cells": [
  {
   "cell_type": "markdown",
   "id": "9597e96f",
   "metadata": {},
   "source": [
    "Coding Exercise 3\n",
    "---\n",
    "Create a program that prompts the user to input their name repeatedly. \n",
    "Then, the program repeatedly prints out the name with the first letter capitalized."
   ]
  },
  {
   "cell_type": "code",
   "execution_count": 2,
   "id": "631ae3a2",
   "metadata": {},
   "outputs": [
    {
     "name": "stdout",
     "output_type": "stream",
     "text": [
      "may I have your name please?manu\n",
      "Manu\n",
      "may I have your name please?sonu\n",
      "Sonu\n",
      "may I have your name please?gabbu\n",
      "Gabbu\n",
      "may I have your name please?done\n",
      "Done\n",
      "Completed\n"
     ]
    }
   ],
   "source": [
    "name=''\n",
    "\n",
    "while name!='done':\n",
    "    name=input(\"may I have your name please?\")\n",
    "    print(name.capitalize())\n",
    "    \n",
    "print(\"Completed\")"
   ]
  },
  {
   "cell_type": "markdown",
   "id": "2ee73473",
   "metadata": {},
   "source": [
    "Bug-Fixing Exercise 1\n",
    "---\n",
    "The code below has two bugs. Hunt them down and fix them."
   ]
  },
  {
   "cell_type": "code",
   "execution_count": null,
   "id": "0437ce7c",
   "metadata": {},
   "outputs": [],
   "source": [
    "while True\n",
    "print(\"Hello\")"
   ]
  },
  {
   "cell_type": "code",
   "execution_count": null,
   "id": "aa8ac8d0",
   "metadata": {},
   "outputs": [],
   "source": [
    "# The correct code should be\n",
    "while True:\n",
    "    print(\"Hello\")"
   ]
  }
 ],
 "metadata": {
  "kernelspec": {
   "display_name": "Python 3 (ipykernel)",
   "language": "python",
   "name": "python3"
  },
  "language_info": {
   "codemirror_mode": {
    "name": "ipython",
    "version": 3
   },
   "file_extension": ".py",
   "mimetype": "text/x-python",
   "name": "python",
   "nbconvert_exporter": "python",
   "pygments_lexer": "ipython3",
   "version": "3.10.9"
  }
 },
 "nbformat": 4,
 "nbformat_minor": 5
}
