{
 "cells": [
  {
   "cell_type": "markdown",
   "id": "ee0a2483",
   "metadata": {},
   "source": [
    "# Section3-Day2"
   ]
  },
  {
   "cell_type": "markdown",
   "id": "c682805b",
   "metadata": {},
   "source": [
    "Coding Exercise 3\n",
    "---\n",
    "Create a program that prompts the user to input their name repeatedly. \n",
    "Then, the program repeatedly prints out the name with the first letter capitalized."
   ]
  },
  {
   "cell_type": "markdown",
   "id": "9cc97f7c",
   "metadata": {},
   "source": [
    "name=''\n",
    "\n",
    "while name!='done':\n",
    "    name=input(\"may I have your name please?\")\n",
    "    print(name.capitalize())\n",
    "    \n",
    "print(\"Completed\")"
   ]
  },
  {
   "cell_type": "markdown",
   "id": "70ee322a",
   "metadata": {},
   "source": [
    "Bug-Fixing Exercise 1\n",
    "---\n",
    "The code below has two bugs. Hunt them down and fix them."
   ]
  },
  {
   "cell_type": "code",
   "execution_count": null,
   "id": "426e76ea",
   "metadata": {},
   "outputs": [],
   "source": [
    "while True\n",
    "print(\"Hello\")"
   ]
  },
  {
   "cell_type": "code",
   "execution_count": null,
   "id": "86037789",
   "metadata": {},
   "outputs": [],
   "source": [
    "# The correct code should be\n",
    "while True:\n",
    "    print(\"Hello\")"
   ]
  },
  {
   "cell_type": "markdown",
   "id": "6535561a",
   "metadata": {},
   "source": [
    "Bug-Fixing Exercise 2\n",
    "---\n",
    "The programmer here is trying to convert the string \"hello\" to \"HELLO\" by using the upper() method:"
   ]
  },
  {
   "cell_type": "code",
   "execution_count": 3,
   "id": "30512fb7",
   "metadata": {},
   "outputs": [
    {
     "ename": "NameError",
     "evalue": "name 'upper' is not defined",
     "output_type": "error",
     "traceback": [
      "\u001b[0;31m---------------------------------------------------------------------------\u001b[0m",
      "\u001b[0;31mNameError\u001b[0m                                 Traceback (most recent call last)",
      "Cell \u001b[0;32mIn[3], line 2\u001b[0m\n\u001b[1;32m      1\u001b[0m greeting \u001b[38;5;241m=\u001b[39m \u001b[38;5;124m\"\u001b[39m\u001b[38;5;124mhello\u001b[39m\u001b[38;5;124m\"\u001b[39m\n\u001b[0;32m----> 2\u001b[0m \u001b[38;5;28mprint\u001b[39m(\u001b[43mupper\u001b[49m(greeting))\n",
      "\u001b[0;31mNameError\u001b[0m: name 'upper' is not defined"
     ]
    }
   ],
   "source": [
    "greeting = \"hello\"\n",
    "print(upper(greeting))"
   ]
  },
  {
   "cell_type": "code",
   "execution_count": 4,
   "id": "d8371cf0",
   "metadata": {},
   "outputs": [
    {
     "name": "stdout",
     "output_type": "stream",
     "text": [
      "HELLO\n"
     ]
    }
   ],
   "source": [
    "# The correct code should be\n",
    "gretting=\"hello\"\n",
    "print(gretting.upper())"
   ]
  },
  {
   "cell_type": "markdown",
   "id": "43fab331",
   "metadata": {},
   "source": [
    "Bug-Fixing Exercise 3\n",
    "---\n",
    "A programmer wrote the following program where The expected output is as follows:\n",
    "\n",
    "```\n",
    "Enter the country: Combodia\n",
    "['Combodia']\n",
    "Enter the country: Triomindia\n",
    "['Combodia', 'Triomindia]\n",
    "```\n",
    "\n",
    "However, the code returns an error instead of the expected output. Fix the code, so it produces the expected output.\n"
   ]
  },
  {
   "cell_type": "code",
   "execution_count": null,
   "id": "e5cf8b4d",
   "metadata": {},
   "outputs": [
    {
     "name": "stdout",
     "output_type": "stream",
     "text": [
      "Enter the country: Combodia\n"
     ]
    }
   ],
   "source": [
    "countries = []\n",
    " \n",
    "while True:\n",
    "    country = input(\"Enter the country: \")\n",
    "    countries.append(country)\n",
    "print(countries)"
   ]
  },
  {
   "cell_type": "code",
   "execution_count": 1,
   "id": "722f6e79",
   "metadata": {},
   "outputs": [
    {
     "name": "stdout",
     "output_type": "stream",
     "text": [
      "Enter the country: Combodia\n",
      "['Combodia']\n",
      "Enter the country: Triomindia\n",
      "['Combodia', 'Triomindia']\n",
      "Enter the country: india\n",
      "['Combodia', 'Triomindia', 'India']\n",
      "Enter the country: braZil\n",
      "['Combodia', 'Triomindia', 'India', 'Brazil']\n",
      "Enter the country: stop\n",
      "['Combodia', 'Triomindia', 'India', 'Brazil', 'Stop']\n",
      "Stopped\n"
     ]
    }
   ],
   "source": [
    "# The correct code should be\n",
    "countries = [] # initialise the list\n",
    "\n",
    "country = ''\n",
    "while country!='stop':\n",
    "    country = input(\"Enter the country: \")\n",
    "    countries.append(country.capitalize())\n",
    "    print(countries)\n",
    "    \n",
    "print(\"Stopped\")"
   ]
  },
  {
   "cell_type": "markdown",
   "id": "73b266ee",
   "metadata": {},
   "source": [
    "How to get a list of all functions we can apply upon string n python\n",
    "---"
   ]
  },
  {
   "cell_type": "code",
   "execution_count": 2,
   "id": "28909aca",
   "metadata": {},
   "outputs": [
    {
     "data": {
      "text/plain": [
       "['__add__',\n",
       " '__class__',\n",
       " '__contains__',\n",
       " '__delattr__',\n",
       " '__dir__',\n",
       " '__doc__',\n",
       " '__eq__',\n",
       " '__format__',\n",
       " '__ge__',\n",
       " '__getattribute__',\n",
       " '__getitem__',\n",
       " '__getnewargs__',\n",
       " '__gt__',\n",
       " '__hash__',\n",
       " '__init__',\n",
       " '__init_subclass__',\n",
       " '__iter__',\n",
       " '__le__',\n",
       " '__len__',\n",
       " '__lt__',\n",
       " '__mod__',\n",
       " '__mul__',\n",
       " '__ne__',\n",
       " '__new__',\n",
       " '__reduce__',\n",
       " '__reduce_ex__',\n",
       " '__repr__',\n",
       " '__rmod__',\n",
       " '__rmul__',\n",
       " '__setattr__',\n",
       " '__sizeof__',\n",
       " '__str__',\n",
       " '__subclasshook__',\n",
       " 'capitalize',\n",
       " 'casefold',\n",
       " 'center',\n",
       " 'count',\n",
       " 'encode',\n",
       " 'endswith',\n",
       " 'expandtabs',\n",
       " 'find',\n",
       " 'format',\n",
       " 'format_map',\n",
       " 'index',\n",
       " 'isalnum',\n",
       " 'isalpha',\n",
       " 'isascii',\n",
       " 'isdecimal',\n",
       " 'isdigit',\n",
       " 'isidentifier',\n",
       " 'islower',\n",
       " 'isnumeric',\n",
       " 'isprintable',\n",
       " 'isspace',\n",
       " 'istitle',\n",
       " 'isupper',\n",
       " 'join',\n",
       " 'ljust',\n",
       " 'lower',\n",
       " 'lstrip',\n",
       " 'maketrans',\n",
       " 'partition',\n",
       " 'removeprefix',\n",
       " 'removesuffix',\n",
       " 'replace',\n",
       " 'rfind',\n",
       " 'rindex',\n",
       " 'rjust',\n",
       " 'rpartition',\n",
       " 'rsplit',\n",
       " 'rstrip',\n",
       " 'split',\n",
       " 'splitlines',\n",
       " 'startswith',\n",
       " 'strip',\n",
       " 'swapcase',\n",
       " 'title',\n",
       " 'translate',\n",
       " 'upper',\n",
       " 'zfill']"
      ]
     },
     "execution_count": 2,
     "metadata": {},
     "output_type": "execute_result"
    }
   ],
   "source": [
    "dir(str)"
   ]
  },
  {
   "cell_type": "code",
   "execution_count": 3,
   "id": "4896d075",
   "metadata": {},
   "outputs": [
    {
     "data": {
      "text/plain": [
       "['__add__',\n",
       " '__class__',\n",
       " '__class_getitem__',\n",
       " '__contains__',\n",
       " '__delattr__',\n",
       " '__delitem__',\n",
       " '__dir__',\n",
       " '__doc__',\n",
       " '__eq__',\n",
       " '__format__',\n",
       " '__ge__',\n",
       " '__getattribute__',\n",
       " '__getitem__',\n",
       " '__gt__',\n",
       " '__hash__',\n",
       " '__iadd__',\n",
       " '__imul__',\n",
       " '__init__',\n",
       " '__init_subclass__',\n",
       " '__iter__',\n",
       " '__le__',\n",
       " '__len__',\n",
       " '__lt__',\n",
       " '__mul__',\n",
       " '__ne__',\n",
       " '__new__',\n",
       " '__reduce__',\n",
       " '__reduce_ex__',\n",
       " '__repr__',\n",
       " '__reversed__',\n",
       " '__rmul__',\n",
       " '__setattr__',\n",
       " '__setitem__',\n",
       " '__sizeof__',\n",
       " '__str__',\n",
       " '__subclasshook__',\n",
       " 'append',\n",
       " 'clear',\n",
       " 'copy',\n",
       " 'count',\n",
       " 'extend',\n",
       " 'index',\n",
       " 'insert',\n",
       " 'pop',\n",
       " 'remove',\n",
       " 'reverse',\n",
       " 'sort']"
      ]
     },
     "execution_count": 3,
     "metadata": {},
     "output_type": "execute_result"
    }
   ],
   "source": [
    "dir(list)\n"
   ]
  },
  {
   "cell_type": "markdown",
   "id": "19a5fcc8",
   "metadata": {},
   "source": [
    "How get help for a method?\n",
    "---"
   ]
  },
  {
   "cell_type": "code",
   "execution_count": 5,
   "id": "a5a08bba",
   "metadata": {},
   "outputs": [
    {
     "name": "stdout",
     "output_type": "stream",
     "text": [
      "Help on built-in function casefold:\n",
      "\n",
      "casefold() method of builtins.str instance\n",
      "    Return a version of the string suitable for caseless comparisons.\n",
      "\n"
     ]
    }
   ],
   "source": [
    "# Use help function\n",
    "\n",
    "help(\"somestring\".casefold)"
   ]
  },
  {
   "cell_type": "code",
   "execution_count": 6,
   "id": "59a55941",
   "metadata": {},
   "outputs": [
    {
     "name": "stdout",
     "output_type": "stream",
     "text": [
      "Help on built-in function extend:\n",
      "\n",
      "extend(iterable, /) method of builtins.list instance\n",
      "    Extend list by appending elements from the iterable.\n",
      "\n"
     ]
    }
   ],
   "source": [
    "# same on list\n",
    "\n",
    "help(['test'].extend)"
   ]
  },
  {
   "cell_type": "markdown",
   "id": "917a1f33",
   "metadata": {},
   "source": [
    "# Section4-Day4"
   ]
  },
  {
   "cell_type": "markdown",
   "id": "40434236",
   "metadata": {},
   "source": [
    "### Coding Exercise 2\n",
    "--\n",
    "Complete the code by adding a for-loop that makes the program produce the following output:\n",
    "\n",
    "John Smith, \n",
    "Sen Plakay, \n",
    "Dora Ngacely"
   ]
  },
  {
   "cell_type": "code",
   "execution_count": 7,
   "id": "7be3b592",
   "metadata": {},
   "outputs": [
    {
     "name": "stdout",
     "output_type": "stream",
     "text": [
      "John Smith\n",
      "Sen Plakay\n",
      "Dora Ngacely\n"
     ]
    }
   ],
   "source": [
    "members = [\"john smith\", \"sen plakay\", \"dora ngacely\"]\n",
    "\n",
    "for member in members:\n",
    "    print(member.title())"
   ]
  },
  {
   "cell_type": "markdown",
   "id": "3f3b06ac",
   "metadata": {},
   "source": [
    "### Bug-Fixing Exercise 1\n",
    "---\n",
    "The programmer is trying to loop over the buttons list and print out each item with the first letter capitalized. However, the programmer has done something wrong. Try to find and fix the issue."
   ]
  },
  {
   "cell_type": "code",
   "execution_count": 1,
   "id": "d7128d3a",
   "metadata": {},
   "outputs": [
    {
     "ename": "NameError",
     "evalue": "name 'buttons' is not defined",
     "output_type": "error",
     "traceback": [
      "\u001b[0;31m---------------------------------------------------------------------------\u001b[0m",
      "\u001b[0;31mNameError\u001b[0m                                 Traceback (most recent call last)",
      "Cell \u001b[0;32mIn[1], line 1\u001b[0m\n\u001b[0;32m----> 1\u001b[0m \u001b[38;5;28;01mfor\u001b[39;00m i \u001b[38;5;129;01min\u001b[39;00m \u001b[43mbuttons\u001b[49m:\n\u001b[1;32m      2\u001b[0m     \u001b[38;5;28mprint\u001b[39m(i\u001b[38;5;241m.\u001b[39mcapitalize())\n\u001b[1;32m      4\u001b[0m buttons \u001b[38;5;241m=\u001b[39m [\u001b[38;5;124m\"\u001b[39m\u001b[38;5;124mcancel\u001b[39m\u001b[38;5;124m\"\u001b[39m, \u001b[38;5;124m\"\u001b[39m\u001b[38;5;124mreply\u001b[39m\u001b[38;5;124m\"\u001b[39m, \u001b[38;5;124m\"\u001b[39m\u001b[38;5;124msubmit\u001b[39m\u001b[38;5;124m\"\u001b[39m]\n",
      "\u001b[0;31mNameError\u001b[0m: name 'buttons' is not defined"
     ]
    }
   ],
   "source": [
    "for i in buttons:\n",
    "    print(i.capitalize())\n",
    " \n",
    "buttons = [\"cancel\", \"reply\", \"submit\"]"
   ]
  },
  {
   "cell_type": "code",
   "execution_count": 8,
   "id": "78387bf8",
   "metadata": {},
   "outputs": [
    {
     "name": "stdout",
     "output_type": "stream",
     "text": [
      "Cancel\n",
      "Reply\n",
      "Submit\n"
     ]
    }
   ],
   "source": [
    "# The proper code should be\n",
    "buttons = [\"cancel\", \"reply\", \"submit\"]\n",
    "for i in buttons:\n",
    "    print(i.capitalize())"
   ]
  },
  {
   "cell_type": "markdown",
   "id": "7c044991",
   "metadata": {},
   "source": [
    "### Bug-Fixing Exercise 3\n",
    "---\n",
    "The code below is supposed to print out the items of the list with the first character of each item capitalized. However, the code contains two errors. Try to find and fix the errors."
   ]
  },
  {
   "cell_type": "code",
   "execution_count": 12,
   "id": "c39e2d38",
   "metadata": {},
   "outputs": [
    {
     "ename": "SyntaxError",
     "evalue": "closing parenthesis ')' does not match opening parenthesis '[' (2866283278.py, line 1)",
     "output_type": "error",
     "traceback": [
      "\u001b[0;36m  Cell \u001b[0;32mIn[12], line 1\u001b[0;36m\u001b[0m\n\u001b[0;31m    for item in [\"sandals\", \"glasses\", \"trousers\"):\u001b[0m\n\u001b[0m                                                 ^\u001b[0m\n\u001b[0;31mSyntaxError\u001b[0m\u001b[0;31m:\u001b[0m closing parenthesis ')' does not match opening parenthesis '['\n"
     ]
    }
   ],
   "source": [
    "for item in [\"sandals\", \"glasses\", \"trousers\"):\n",
    "    print(item.capitalize)"
   ]
  },
  {
   "cell_type": "code",
   "execution_count": 11,
   "id": "f91efead",
   "metadata": {},
   "outputs": [
    {
     "name": "stdout",
     "output_type": "stream",
     "text": [
      "Sandals\n",
      "Glasses\n",
      "Trousers\n"
     ]
    }
   ],
   "source": [
    "# The proper code should be\n",
    "for item in [\"sandals\", \"glasses\", \"trousers\"]:\n",
    "    print(item.capitalize())"
   ]
  },
  {
   "cell_type": "code",
   "execution_count": null,
   "id": "b0c04c8a",
   "metadata": {},
   "outputs": [],
   "source": []
  }
 ],
 "metadata": {
  "kernelspec": {
   "display_name": "Python 3 (ipykernel)",
   "language": "python",
   "name": "python3"
  },
  "language_info": {
   "codemirror_mode": {
    "name": "ipython",
    "version": 3
   },
   "file_extension": ".py",
   "mimetype": "text/x-python",
   "name": "python",
   "nbconvert_exporter": "python",
   "pygments_lexer": "ipython3",
   "version": "3.10.9"
  }
 },
 "nbformat": 4,
 "nbformat_minor": 5
}
